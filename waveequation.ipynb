{
 "cells": [
  {
   "cell_type": "markdown",
   "metadata": {
    "collapsed": true
   },
   "source": [
    "# Wave Equation\n",
    "\n",
    "## Name: Jane Slagle\n",
    "\n",
    "## Class: Vol 4 lab\n",
    "\n",
    "## Date: 11/9/22"
   ]
  },
  {
   "cell_type": "code",
   "execution_count": 51,
   "metadata": {},
   "outputs": [],
   "source": [
    "import numpy as np\n",
    "import matplotlib.pyplot as plt\n",
    "import matplotlib.animation as animation\n",
    "from scipy.linalg import toeplitz\n",
    "import scipy.optimize"
   ]
  },
  {
   "cell_type": "markdown",
   "metadata": {},
   "source": [
    "# Problem 1\n",
    "Numerically approximate the solution to the following BVP\n",
    "\n",
    "$$\n",
    "u_{tt} = u_{xx} \\\\\n",
    "u(0,t) = u(1,t) = 0, \\\\\n",
    "u(x,0) = \\sin(2\\pi x), \\\\\n",
    "u_t(x,0) = 0. \n",
    "$$\n",
    "\n",
    "Numerically approximate the solution $u(x,t)$ for $t\\in[0,.5]$. Use $J=50$ subintervals in the $x$ dimension and $M=50$ subintervals in the $t$ dimension. Animate the results. Compare you results with the analytic solution $u(x,t) = \\sin(2\\pi x)\\cos(2\\pi t).$ This function is know as a standing wave."
   ]
  },
  {
   "cell_type": "code",
   "execution_count": 52,
   "metadata": {},
   "outputs": [
    {
     "data": {
      "image/png": "[encoded data removed]",
      "text/plain": [
       "<Figure size 432x288 with 1 Axes>"
      ]
     },
     "metadata": {
      "needs_background": "light"
     },
     "output_type": "display_data"
    }
   ],
   "source": [
    "#make it into function bc will call it in next problems:\n",
    "#from our system: see that s = 1\n",
    "\n",
    "def prob_1(J, M, T, f, g, s=1):\n",
    "    #first find A matrix: need del_t, del_x for lambda so find lambda 1st\n",
    "    t = np.linspace(0,T,M+1)  #t goes from 0 to 0.5 and want 50 M subintervals\n",
    "    del_t = t[1] - t[0]       #del_t is the change btw each t value\n",
    "    x = np.linspace(0,1,J+1)  #from BVP given: x goes from 0 to 1\n",
    "    del_x = x[1] - x[0]    \n",
    "    lam = (s*del_t)/(del_x) \n",
    "    \n",
    "    #add the main, above and below diagonals to get A matrix:\n",
    "    A = np.diag((lam**2)*np.ones(J-2), -1) +  np.diag(2*(1-lam**2)*np.ones(J-1), 0) +  np.diag((lam**2)*np.ones(J-2), 1)    #make a matrix of zeros J+1 by M+1, make sure to not change the first and last entries of each column b/c we want them to be 0\n",
    "    \n",
    "    #start contstructing U:\n",
    "    U = np.zeros((M+1, J+1))  #U is 2 dimensional: have u(x,t) so have U[m,j] here\n",
    "    #get the 1st, 2nd values of U for when do recursive formula for U:\n",
    "    U0 = f(x[1:-1])  #endpts are both 0 so don't include them here to keep them as zeros\n",
    "    U[0][1:-1] = U0 \n",
    "    U1 = [U[0,j] + g(x)[j]*del_t + ((lam**2)/2)*(U[0,j-1] - 2*U[0,j] + U[0,j+1]) for j in range(1,J)]\n",
    "    U[1][1:-1] = U1 \n",
    "    \n",
    "    #now can get U via the recursive formula have: 1st, last are 0s so dont need change those\n",
    "    for m in range(2, M+1):   \n",
    "        U[m][1:-1] = A@U[m-1][1:-1] - U[m-2][1:-1]    \n",
    "        \n",
    "    return U\n",
    "\n",
    "#set up system that we are given:\n",
    "J = 50\n",
    "M = 50\n",
    "T = .5\n",
    "s = 1\n",
    "x = np.linspace(0,1,J+1)\n",
    "f = lambda x: np.sin(2*np.pi*x)\n",
    "g = lambda x: np.zeros(len(x))\n",
    "u_found = prob_1(J,M,T,f,g,s)\n",
    "\n",
    "#now create animation:\n",
    "fig = plt.figure()\n",
    "ax = fig.add_subplot(111)\n",
    "ax.set_xlim((0,1)) \n",
    "ax.set_ylim((-1,1))\n",
    "sol, = plt.plot([],[], color='deeppink')\n",
    "\n",
    "def update(i):\n",
    "    sol.set_data(x,list(u_found[i]))  #plot the u that we found in prob_1 code\n",
    "    return sol\n",
    "\n",
    "ani = animation.FuncAnimation(fig, update, frames=range(M+1), interval=50)\n",
    "plt.title('Problem 1 Animation')\n",
    "animation.writer = animation.writers['ffmpeg']\n",
    "ani.save('probl1_ani.mp4')\n",
    "\n",
    "plt.show()"
   ]
  },
  {
   "cell_type": "markdown",
   "metadata": {},
   "source": [
    "#dipslay the video from the file now\n",
    "<video src=\"prob1_ani.mp4\" controls>"
   ]
  },
  {
   "cell_type": "markdown",
   "metadata": {},
   "source": [
    "# Problem 2\n",
    "\n",
    "Consider the boundary value problem \n",
    "\n",
    "$$\n",
    "u_{tt} = u_{xx}, \\\\\n",
    "u(0,t) = u(1,t) = 0, \\\\\n",
    "u(x,0) = 0.2e^{-,^2(x-1/2)^2} \\\\\n",
    "y_t(x,0) = 0.4m^2(x-\\frac{1}{2})e^{-m^2(x-1/2)^2}.\n",
    "$$\n",
    "\n",
    "The solution of this problem is ta Gaussian pulse. It travels to the right at a constant speed. This solution models, for example, a wave pulse in a stretched string. Note that the fixed boundart conditions reflect the pulse back when it meets the boundary.\n",
    "\n",
    "Numerically approximate the solution $u(x,t)$ for $t\\in[0,1]$. Set $m=20$. Use 200 subintervals in space and 220 in time, and animate your results. Then use 200 subintervals in space and 180 in time, and animate your results. Note that the stability condition is not satisfied for the second mesh."
   ]
  },
  {
   "cell_type": "code",
   "execution_count": 53,
   "metadata": {},
   "outputs": [
    {
     "data": {
      "image/png": "[encoded data removed]",
      "text/plain": [
       "<Figure size 432x288 with 1 Axes>"
      ]
     },
     "metadata": {
      "needs_background": "light"
     },
     "output_type": "display_data"
    }
   ],
   "source": [
    "#we are calling prob 1 here:\n",
    "#get everything for system we want to animate:\n",
    "J = 200\n",
    "M = 220\n",
    "T = 1\n",
    "s = 1\n",
    "m = 20\n",
    "f = lambda x: 0.2*np.exp((-m**2)*((x-1/2)**2))\n",
    "g = lambda x: 0.4*(m**2)*(x-1/2)*np.exp(-(m**2)*((x-1/2)**2))\n",
    "u_found = prob_1(J,M,T,f,g,s)\n",
    "x = np.linspace(0, 1, J+1)\n",
    "\n",
    "#now animate it:\n",
    "fig = plt.figure()\n",
    "ax = fig.add_subplot(111)\n",
    "ax.set_xlim((0,1))\n",
    "ax.set_ylim((-1,1))\n",
    "traj, = plt.plot([],[], color='mediumvioletred')    \n",
    "plt.title(\"Prob 2 Animation for J=200, M=220\")\n",
    "\n",
    "def update(i):\n",
    "    traj.set_data(x,list(u_found[i])) #only want y as t changes\n",
    "    return traj\n",
    "\n",
    "#now create the actual animation:\n",
    "ani = animation.FuncAnimation(fig, update, frames=range(M+1), interval=50)  #create FuncAnimation object to make animation\n",
    "animation.writer = animation.writers['ffmpeg'] #specify using ffmpeg\n",
    "ani.save('prob2_ani_1.mp4') #save animation as file\n",
    "\n",
    "plt.show()"
   ]
  },
  {
   "cell_type": "markdown",
   "metadata": {},
   "source": [
    "#dipslay the video from the file now\n",
    "<video src=\"prob2_ani_1.mp4\" controls>"
   ]
  },
  {
   "cell_type": "code",
   "execution_count": 54,
   "metadata": {},
   "outputs": [
    {
     "data": {
      "image/png": "[encoded data removed]",
      "text/plain": [
       "<Figure size 432x288 with 1 Axes>"
      ]
     },
     "metadata": {
      "needs_background": "light"
     },
     "output_type": "display_data"
    }
   ],
   "source": [
    "#want for J = 200, M = 180 now:\n",
    "J2 = 200\n",
    "M2 = 180\n",
    "T = 1\n",
    "s = 1\n",
    "m = 20\n",
    "f = lambda x: 0.2*np.exp((-m**2)*((x-1/2)**2))\n",
    "g = lambda x: 0.4*(m**2)*(x-1/2)*np.exp(-(m**2)*((x-1/2)**2))\n",
    "u_found2 = prob_1(J2,M2,T,f,g,s)\n",
    "x = np.linspace(0, 1, J2+1)\n",
    "\n",
    "#now animate it:\n",
    "fig = plt.figure()\n",
    "ax = fig.add_subplot(111)\n",
    "ax.set_xlim((0,1))\n",
    "ax.set_ylim((-1,1))\n",
    "traj, = plt.plot([],[], color='rebeccapurple')    \n",
    "plt.title(\"Prob 2 Animation for J=180, M=200\")\n",
    "\n",
    "def update(i):\n",
    "    traj.set_data(x,list(u_found2[i])) #only want y as t changes\n",
    "    return traj\n",
    "\n",
    "#now create the actual animation:\n",
    "ani = animation.FuncAnimation(fig, update, frames=range(M2+1), interval=50)  #create FuncAnimation object to make animation\n",
    "animation.writer = animation.writers['ffmpeg'] #specify using ffmpeg\n",
    "ani.save('prob2_ani_2.mp4') #save animation as file\n",
    "\n",
    "plt.show()"
   ]
  },
  {
   "cell_type": "markdown",
   "metadata": {},
   "source": [
    "#dipslay the video from the file now\n",
    "<video src=\"prob2_ani_2.mp4\" controls>"
   ]
  },
  {
   "cell_type": "code",
   "execution_count": null,
   "metadata": {},
   "outputs": [],
   "source": []
  },
  {
   "cell_type": "markdown",
   "metadata": {},
   "source": [
    "# Problem 3\n",
    "\n",
    "Consider the initial boundary value problem\n",
    "$$\n",
    "\tu_{tt} = u_{xx}, \\\\\n",
    "\tu(0,t) = u(1,t) = 0, \\\\\n",
    "\tu(x,0) = 0.2e^{-m^2(x-1/2)^2}\\\\\n",
    "\tu_t(x,0) = 0.\n",
    "$$\n",
    "The initial condition separates into two smaller, slower-moving pulses, one travelling to the right and the other to the left.\n",
    "This solution models, for example, a plucked guitar string\n",
    "\n",
    "Numerically approximate the solution $u(x,t)$ for $t \\in \\left[0,2\\right]$.\n",
    "Set $m=20$.\n",
    "Use 200 subintervals in space and 440 in time, and animate your results.\n",
    "It is rather easy to see that the solution to this problem is the sum of two travelling waves, one travelling to the left and the other to the right, as described earlier."
   ]
  },
  {
   "cell_type": "code",
   "execution_count": 55,
   "metadata": {},
   "outputs": [
    {
     "data": {
      "image/png": "[encoded data removed]",
      "text/plain": [
       "<Figure size 432x288 with 1 Axes>"
      ]
     },
     "metadata": {
      "needs_background": "light"
     },
     "output_type": "display_data"
    }
   ],
   "source": [
    "J = 200\n",
    "M = 440\n",
    "T = 2\n",
    "s = 1\n",
    "m = 20\n",
    "f = lambda x: 0.2*np.exp((-m**2)*((x-1/2)**2))\n",
    "g = lambda x: np.zeros(len(x))\n",
    "u_found = prob_1(J,M,T,f,g,s)\n",
    "x = np.linspace(0, 1, J+1)\n",
    "\n",
    "#now animate it:\n",
    "fig = plt.figure()\n",
    "ax = fig.add_subplot(111)\n",
    "ax.set_xlim((0,1))\n",
    "ax.set_ylim((-1,1))\n",
    "traj, = plt.plot([],[], color='cornflowerblue')    \n",
    "plt.title(\"Prob 3 Animation\")\n",
    "\n",
    "def update(i):\n",
    "    traj.set_data(x,list(u_found[i])) #only want y as t changes\n",
    "    return traj\n",
    "\n",
    "#now create the actual animation:\n",
    "ani = animation.FuncAnimation(fig, update, frames=range(M+1), interval=50)  #create FuncAnimation object to make animation\n",
    "animation.writer = animation.writers['ffmpeg'] #specify using ffmpeg\n",
    "ani.save('prob3_ani.mp4') #save animation as file\n",
    "\n",
    "plt.show()"
   ]
  },
  {
   "cell_type": "markdown",
   "metadata": {},
   "source": [
    "#dipslay the video from the file now\n",
    "<video src=\"prob3_ani.mp4\" controls>"
   ]
  },
  {
   "cell_type": "markdown",
   "metadata": {},
   "source": [
    "# Problem 4\n",
    "\n",
    "Consider the initial boundary value problem\n",
    "\n",
    "$$\n",
    "\tu_{tt} = u_{xx}, \\\\\n",
    "\tu(0,t) = u(1,t) = 0, \\\\\n",
    "\tu(x,0) = \\begin{cases} 1/3 & \\text{if } 5/11 < x < 6/11,\\\\\n",
    "\t0 & \\text{otherwise}\n",
    "\t\\end{cases}\\\\\n",
    "\tu_t(x,0) = 0.\n",
    "$$\n",
    "\n",
    "Numerically approximate the solution $u(x,t)$ for $t \\in \\left[0, 2\\right]$.\n",
    "Use 200 subintervals in space and 440 in time, and animate your results.\n",
    "Even though the method is second order and stable for this discretization, since the initial condition is discontinuous there are large dispersive errors."
   ]
  },
  {
   "cell_type": "code",
   "execution_count": 56,
   "metadata": {},
   "outputs": [
    {
     "data": {
      "image/png": "[encoded data removed]",
      "text/plain": [
       "<Figure size 432x288 with 1 Axes>"
      ]
     },
     "metadata": {
      "needs_background": "light"
     },
     "output_type": "display_data"
    }
   ],
   "source": [
    "J = 200\n",
    "M = 440\n",
    "T = 2\n",
    "s = 1\n",
    "f = lambda x: [1/3 if (5/11 < x_ and x_ < 6/11) else 0 for x_ in x] #f is piecewise here\n",
    "g = lambda x: np.zeros(len(x))\n",
    "u_found = prob_1(J,M,T,f,g,s)\n",
    "x = np.linspace(0, 1, J+1)\n",
    "\n",
    "#now animate it:\n",
    "fig = plt.figure()\n",
    "ax = fig.add_subplot(111)\n",
    "ax.set_xlim((0,1))\n",
    "ax.set_ylim((-1,1))\n",
    "traj, = plt.plot([],[], color='orangered')    \n",
    "plt.title(\"Prob 3 Animation\")\n",
    "\n",
    "def update(i):\n",
    "    traj.set_data(x,list(u_found[i])) #only want y as t changes\n",
    "    return traj\n",
    "\n",
    "#now create the actual animation:\n",
    "ani = animation.FuncAnimation(fig, update, frames=range(M+1), interval=50)  #create FuncAnimation object to make animation\n",
    "animation.writer = animation.writers['ffmpeg'] #specify using ffmpeg\n",
    "ani.save('prob4_ani.mp4') #save animation as file\n",
    "\n",
    "plt.show()"
   ]
  },
  {
   "cell_type": "markdown",
   "metadata": {},
   "source": [
    "#dipslay the video from the file now\n",
    "<video src=\"prob4_ani.mp4\" controls>"
   ]
  },
  {
   "cell_type": "code",
   "execution_count": null,
   "metadata": {},
   "outputs": [],
   "source": []
  },
  {
   "cell_type": "markdown",
   "metadata": {},
   "source": [
    "# Problem 5\n",
    "\n",
    "\n",
    "Numerically solve the initial value problem\n",
    "\n",
    "$$\n",
    "\tu_t -su_x + uu_x = u_{xx}, \\quad x \\in (-\\infty,\\infty),\\\\\n",
    "\tu(x,0) = v(x),\n",
    "$$\n",
    "\n",
    "for $t \\in [0,1]$.\n",
    "Let the perturbation $v(x)$ be given by\n",
    "\n",
    "$$\n",
    "v(x) = 3.5(\\sin{(3x)} + 1)\\frac{1}{\\sqrt{2\\pi}} \\exp{(-x^2/2)}\n",
    "$$\n",
    "\n",
    "And let the initial condition be $u(x, 0) = \\hat{u}(x) + v(x)$\n",
    "Approximate the $x$ domain,$(-\\infty, \\infty)$, numerically by the finite interval $[-20,20]$, and fix $u(-20) = u_-$, $u(20) = u_+$. Let $u_- = 5$, $u_+ = 1$.\n",
    "Use 150 intervals in space and 350 steps in time.\n",
    "Animate your results.\n",
    "You should see the solution converge to a translate of the travelling wave $\\hat{u}$.\n",
    "\n",
    "Hint: This difference scheme is no longer a linear equation.\n",
    "We have a nonlinear equation in $U^{n+1}$.\n",
    "We can still solve this function using Newton's method or some other similar solver.\n",
    "In this case, use `scipy.optimize.fsolve`."
   ]
  },
  {
   "cell_type": "code",
   "execution_count": null,
   "metadata": {
    "collapsed": true
   },
   "outputs": [],
   "source": []
  }
 ],
 "metadata": {
  "kernelspec": {
   "display_name": "Python 3 (ipykernel)",
   "language": "python",
   "name": "python3"
  },
  "language_info": {
   "codemirror_mode": {
    "name": "ipython",
    "version": 3
   },
   "file_extension": ".py",
   "mimetype": "text/x-python",
   "name": "python",
   "nbconvert_exporter": "python",
   "pygments_lexer": "ipython3",
   "version": "3.8.10"
  }
 },
 "nbformat": 4,
 "nbformat_minor": 1
}
