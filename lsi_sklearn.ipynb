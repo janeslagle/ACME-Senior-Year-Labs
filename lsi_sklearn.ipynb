{
 "cells": [
  {
   "cell_type": "markdown",
   "metadata": {},
   "source": [
    "# Finding Patterns in Data\n",
    "## LSI and Scikit-Learn\n",
    "    Jane Slagle\n",
    "    Vol 3 Lab whoot whoot yeahhhh\n",
    "    10/11/22"
   ]
  },
  {
   "cell_type": "code",
   "execution_count": 1,
   "metadata": {},
   "outputs": [],
   "source": [
    "import os\n",
    "import string\n",
    "import numpy as np\n",
    "from math import log\n",
    "from scipy import sparse\n",
    "from sklearn import datasets\n",
    "from scipy import linalg as la\n",
    "from collections import Counter\n",
    "from matplotlib import pyplot as plt\n",
    "from scipy.sparse import linalg as spla\n",
    "from sklearn.pipeline import Pipeline\n",
    "from sklearn.decomposition import PCA\n",
    "from sklearn.model_selection import GridSearchCV\n",
    "from sklearn.ensemble import RandomForestClassifier\n",
    "from sklearn.neighbors import KNeighborsClassifier\n",
    "from sklearn.preprocessing import StandardScaler\n",
    "\n",
    "from sklearn.model_selection import train_test_split\n",
    "from sklearn.metrics import classification_report\n",
    "from sklearn.metrics import confusion_matrix"
   ]
  },
  {
   "cell_type": "markdown",
   "metadata": {},
   "source": [
    "## Problem 1\n",
    "- Perform PCA on the breast cancer dataset\n",
    "- Graph the first two principal components\n",
    "- Calculate the variance captured by the first two principal components"
   ]
  },
  {
   "cell_type": "markdown",
   "metadata": {},
   "source": []
  },
  {
   "cell_type": "code",
   "execution_count": 2,
   "metadata": {},
   "outputs": [],
   "source": [
    "def prob1():\n",
    "    \"\"\"Recreate the plot in Figure 1 by performing PCA on the breast \n",
    "    cancer dataset. Translate the columns of X to have mean 0.\n",
    "    Include the amount of variance captured by the first two principal \n",
    "    components in the graph title.\"\"\"\n",
    "    \n",
    "    #load data:\n",
    "    cancer = datasets.load_breast_cancer()\n",
    "    X = cancer.data\n",
    "    y = cancer.target  #class labels (0 or 1), will tell you if benign or malignant\n",
    "    \n",
    "    #PCA process: step 1 - need find Y matrix: Y is matrix w/ columns of X translated to have mean 0\n",
    "    Y = X - np.mean(X, axis = 0) #want mean of each component of Y to be 0, axis=0 means take mean along each column\n",
    "    \n",
    "    #step 2 - find truncated SVD of our centered data (so of Y)\n",
    "    U, Sig, VT = la.svd(Y)\n",
    "    \n",
    "    #step 3 - want to only keep the 1st 2 principal components: given formula for how do this in lab manual\n",
    "    Y_hat = Y@VT.T[:, :2] #l = 2 in formula given\n",
    "    \n",
    "    #make mask to separate the data into the 2 types: bengin, malignant\n",
    "    ben = Y_hat[y == 1]  #if the data is 1: its benign\n",
    "    mal = Y_hat[y == 0]  #if the data is 0: its malignant\n",
    "    \n",
    "    #find variance w/ equation 1.1 in lab manual:\n",
    "    variance = (Sig**2)/np.sum(Sig**2)  #need to square them bc not squared in the matrix\n",
    "    \n",
    "    #graph the 1st 2 principal components w/ 1st along x-axis\n",
    "    plt.figure(figsize = (10, 7))\n",
    "    plt.scatter(ben[:,0], ben[:, 1], marker = 'o', label = \"benign\", color = \"mediumpurple\") #need graph the x,y points\n",
    "    plt.scatter(mal[:,0], mal[:,1], marker = 'o', label = \"malignant\", color = \"tomato\") \n",
    "    plt.legend(loc = \"best\")\n",
    "    plt.xlabel(\"First Principle Component\", color = \"navy\")\n",
    "    plt.ylabel(\"Second Principle Component\", color = \"navy\")\n",
    "    plt.title(\"Breast Cancer PCA, variance = \" + str(variance[0]+variance[1]), color = \"navy\") #want variance for 1st 2 principal components\n",
    "    plt.show()   "
   ]
  },
  {
   "cell_type": "code",
   "execution_count": 3,
   "metadata": {},
   "outputs": [
    {
     "data": {
      "image/png": "[encoded data removed]",
      "text/plain": [
       "<Figure size 720x504 with 1 Axes>"
      ]
     },
     "metadata": {
      "needs_background": "light"
     },
     "output_type": "display_data"
    }
   ],
   "source": [
    "prob1()"
   ]
  },
  {
   "cell_type": "markdown",
   "metadata": {},
   "source": [
    "## Problem 2\n",
    "Implement the function similar()"
   ]
  },
  {
   "cell_type": "code",
   "execution_count": 4,
   "metadata": {},
   "outputs": [],
   "source": [
    "def similar(i, Xhat):\n",
    "    \"\"\"\n",
    "    Takes an index and matrix representing the principal components \n",
    "    of a document and returns two indices: the index of the document \n",
    "    that is least similar and the index of the document that is most \n",
    "    similar to i.\n",
    "    \n",
    "    Parameters:\n",
    "        i: index of a document\n",
    "        Xhat: decomposed data\n",
    "    \n",
    "    Returns:\n",
    "        index_min: index of the document least similar to document i\n",
    "        index_max: index of the document most similar to document i\n",
    "    \"\"\"\n",
    "    vals = []  #list to store the similiarity values in\n",
    "    \n",
    "    #loop through every row of Xhat matrix: j represents a row, index i given is a row as well\n",
    "    for j in range(Xhat.shape[0]):  #have to do .shape instead of length bc sparse and len wont work. [0] says loop through rows \n",
    "        vals.append(np.dot(Xhat[i], Xhat[j]) / (la.norm(Xhat[i])*la.norm(Xhat[j]))) #given in lab manual: this is similarity btw doc i, doc j\n",
    "        \n",
    "    #now need to get the least similar, most similar\n",
    "    #argmax though will return itself (will return that a paper is most sim to itself) so use argsort instead\n",
    "    #bc argsort goes from least to greatest so [-1] is one that is most similar w/ itself which is one want avoid\n",
    "    #so get argsort at [-2] to get the actual one want\n",
    "    most_sim = np.argsort(vals)[-2]\n",
    "    least_sim = np.argmin(vals)      #know from lab manual that least sim is argmin of formula for vals\n",
    "    \n",
    "    return least_sim, most_sim"
   ]
  },
  {
   "cell_type": "code",
   "execution_count": 10,
   "metadata": {},
   "outputs": [],
   "source": [
    "#test prob 2:\n",
    "\n",
    "#generate random sparse matrix:\n",
    "#Xhat = np.random.random((5,5))\n",
    "#similar(4, Xhat)"
   ]
  },
  {
   "cell_type": "markdown",
   "metadata": {},
   "source": [
    "### Function for Problem 3"
   ]
  },
  {
   "cell_type": "code",
   "execution_count": 6,
   "metadata": {},
   "outputs": [],
   "source": [
    "def document_converter():\n",
    "    \"\"\"\n",
    "    Converts speech documents into an n by m array where m is the number \n",
    "    of vocabulary words and n is the number of documents.\n",
    "    \n",
    "    Returns:\n",
    "        X ((n x m) sparse matrix): Each row represents a document\n",
    "        paths (list): list where each element is a speech path \n",
    "            eg: path[0] is './Addresses/1990-Bush.txt'\n",
    "    \"\"\"\n",
    "    # Get list of filepaths to each text file in the folder.\n",
    "    folder = \"./Addresses/\"\n",
    "    paths = [folder+p for p in os.listdir(folder) if p.endswith(\".txt\")]\n",
    "\n",
    "    # Helper function to get list of words in a string.\n",
    "    def extractWords(text):\n",
    "        ignore = string.punctuation + string.digits\n",
    "        cleaned = \"\".join([t for t in text.strip() if t not in ignore])\n",
    "        return cleaned.lower().split()\n",
    "\n",
    "    # Initialize vocab set, then read each file and add to the vocab set.\n",
    "    vocab = set()\n",
    "    for p in paths:\n",
    "        with open(p, 'r', encoding=\"utf8\") as infile:\n",
    "            for line in infile:\n",
    "                vocab.update(extractWords(line)) # Union sets together\n",
    "\n",
    "    # Load stopwords\n",
    "    with open(\"stopwords.txt\", 'r',  encoding=\"utf8\") as f:\n",
    "        stops = set([w.strip().lower() for w in f.readlines()])\n",
    "\n",
    "    # Remove stopwords from vocabulary, create ordering\n",
    "    vocab = {w:i for i, w in enumerate(vocab.difference(stops))}\n",
    "\n",
    "\n",
    "    counts = []      # holds the entries of X\n",
    "    doc_index = []   # holds the row index of X\n",
    "    word_index = []  # holds the column index of X\n",
    "\n",
    "    # Iterate through the documents.\n",
    "    for doc, p in enumerate(paths):\n",
    "        with open(p, 'r', encoding=\"utf8\") as f:\n",
    "            # Create the word counter.\n",
    "            ctr = Counter()\n",
    "            for line in f:\n",
    "                ctr.update(extractWords(line))\n",
    "            # Iterate through the word counter, storing counts.\n",
    "            for word, count in ctr.items():\n",
    "                if word in vocab:\n",
    "                    word_index.append(vocab[word])\n",
    "                    counts.append(count)\n",
    "                    doc_index.append(doc)\n",
    "\n",
    "    # Create sparse matrix holding these word counts.\n",
    "    X = sparse.csr_matrix((counts, [doc_index, word_index]),\n",
    "                           shape=(len(paths), len(vocab)), dtype=float)\n",
    "    return X, paths"
   ]
  },
  {
   "cell_type": "markdown",
   "metadata": {},
   "source": [
    "## Problem 3\n",
    "Use the function above and PCA to find speeches most and least similar to a given speech."
   ]
  },
  {
   "cell_type": "code",
   "execution_count": 7,
   "metadata": {},
   "outputs": [],
   "source": [
    "def prob3(speech, l=7):\n",
    "    \"\"\"\n",
    "    Uses LSI, applied to the word count matrix X, with the first 7 \n",
    "    principal components to find the most similar and least similar \n",
    "    speeches.\n",
    "\n",
    "    Parameters:\n",
    "        speech (str): Path to speech eg: \"./Addresses/1984-Reagan.txt\"\n",
    "        l (int): Number of principal components\n",
    "\n",
    "    Returns:\n",
    "        tuple of str: (Most similar speech, least similar speech)\n",
    "    \"\"\"    \n",
    "    #apply LSI techniques to word count matrix X: the LSI techs here is the document converter function given\n",
    "    #use document converter to get sparse matrix X of documents, list of paths called paths\n",
    "    X, paths = document_converter()\n",
    "    \n",
    "    #need to get Xhat sparse matrix for when we use prob 2 function:\n",
    "    U, Sigma, VT = sparse.linalg.svds(X, l) #in order to get Xhat, need to find svd\n",
    "    Xhat = X@VT.T[:, :l] #only want 1st 7 principal components\n",
    "    \n",
    "    #need the index for when use prob 2 function:\n",
    "    ind = paths.index(speech)  #want get the index of each speech\n",
    "    \n",
    "    #now use prob 2 func to find index of which documents are most, least similar\n",
    "    minInd, maxInd = similar(ind, Xhat)\n",
    "    \n",
    "    return paths[maxInd][12:-4], paths[minInd][12:-4]  #do it at [12:-4] so that dont have address string in front of it"
   ]
  },
  {
   "cell_type": "code",
   "execution_count": 8,
   "metadata": {},
   "outputs": [
    {
     "name": "stdout",
     "output_type": "stream",
     "text": [
      "('1988-Reagan', '1946-Truman')\n",
      "('2010-Obama', '1951-Truman')\n"
     ]
    }
   ],
   "source": [
    "# Run this box once you have written prob3()\n",
    "speech = './Addresses/1984-Reagan.txt'\n",
    "print(prob3(speech))\n",
    "\n",
    "speech = \"./Addresses/1993-Clinton.txt\"\n",
    "print(prob3(speech))"
   ]
  },
  {
   "cell_type": "markdown",
   "metadata": {},
   "source": [
    "## Problem 4\n",
    "Edit the end of the following function to return a weighted sparse matrix A."
   ]
  },
  {
   "cell_type": "code",
   "execution_count": 9,
   "metadata": {},
   "outputs": [],
   "source": [
    "def weighted_document_converter():\n",
    "    \"\"\"\n",
    "    Converts speech documents into an n by m array where m is the number \n",
    "    of vocabulary words and n is the number of documents. It gives weights\n",
    "    to the most important words in the vocabulary.\n",
    "    \n",
    "    Returns:\n",
    "        A ((n x m) sparse matrix): Each row represents a document\n",
    "        paths (list): list where each element is a speech path \n",
    "            eg: path[0] is './Addresses/1990-Bush.txt'\n",
    "    \"\"\"\n",
    "    # Get list of filepaths to each text file in the folder.\n",
    "    folder = \"./Addresses/\"\n",
    "    paths = [folder+p for p in os.listdir(folder) if p.endswith(\".txt\")]\n",
    "\n",
    "    # Helper function to get list of words in a string.\n",
    "    def extractWords(text):\n",
    "        ignore = string.punctuation + string.digits\n",
    "        cleaned = \"\".join([t for t in text.strip() if t not in ignore])\n",
    "        return cleaned.lower().split()\n",
    "\n",
    "    # Initialize vocab set, then read each file and add to the vocab set.\n",
    "    vocab = set()\n",
    "    for p in paths:\n",
    "        with open(p, 'r', encoding=\"utf8\") as infile:\n",
    "            for line in infile:\n",
    "                vocab.update(extractWords(line)) # Union sets together\n",
    "\n",
    "    # Load stopwords\n",
    "    with open(\"stopwords.txt\", 'r',  encoding=\"utf8\") as f:\n",
    "        stops = set([w.strip().lower() for w in f.readlines()])\n",
    "\n",
    "    # Remove stopwords from vocabulary, create ordering\n",
    "    vocab = {w:i for i, w in enumerate(vocab.difference(stops))}\n",
    "\n",
    "    t = np.zeros(len(vocab)) # holds global count for each word\n",
    "    counts = []      # holds the entries of X\n",
    "    doc_index = []   # holds the row index of X\n",
    "    word_index = []  # holds the column index of X\n",
    "\n",
    "    # Get doc-term counts and global term counts\n",
    "    for doc, p in enumerate(paths):\n",
    "        with open(p, 'r', encoding=\"utf8\") as f:\n",
    "            # Create the word counter.\n",
    "            ctr = Counter()\n",
    "            for line in f:\n",
    "                ctr.update(extractWords(line))\n",
    "            # Iterate through the word counter, storing counts.\n",
    "            for word, count in ctr.items():\n",
    "                if word in vocab:\n",
    "                    word_index.append(vocab[word])\n",
    "                    counts.append(count)\n",
    "                    doc_index.append(doc)\n",
    "\n",
    "    # Create sparse matrix holding these word counts:\n",
    "    X = sparse.csr_matrix((counts, [doc_index, word_index]),\n",
    "                           shape=(len(paths), len(vocab)), dtype=float)    \n",
    "    \n",
    "    # Define the variables:\n",
    "    #do the p, g, A equations given in lab manual:\n",
    "    p = X / np.sum(X, axis=1)  #p equation given in lab manual\n",
    "    m, n = X.shape             #need m,n to get g, A         \n",
    "    \n",
    "    #get g:\n",
    "    g = np.zeros(n)            \n",
    "    for j in range(n):         #now loop through n and make g equation\n",
    "        g[j] = 1 + sum([np.dot(p[i,j],np.log(p[i,j] + 1))/np.log(m) for i in range(1,m)])  #g equation\n",
    "    \n",
    "    #get A:\n",
    "    A = np.zeros([m, n])\n",
    "    for i in range(m):\n",
    "        for j in range(n):\n",
    "            A[i, j] = g[j] * np.log(X[i, j] + 1) #A equation\n",
    "\n",
    "    return sparse.csr_matrix(A), paths  #want return sparse matrix A, list of file paths"
   ]
  },
  {
   "cell_type": "markdown",
   "metadata": {},
   "source": [
    "## Problem 5\n",
    "Use the weighted_document_converter() function above and scikit-learn's PCA to find speeches most and least similar to a given speech."
   ]
  },
  {
   "cell_type": "code",
   "execution_count": 10,
   "metadata": {},
   "outputs": [],
   "source": [
    "def prob5(speech, l=7):\n",
    "    \"\"\"\n",
    "    Uses LSI, applied to the globally weighted word count matrix A, with \n",
    "    the first 7 principal components to find the most similar and least \n",
    "    similar speeches.\n",
    "\n",
    "    Parameters:\n",
    "        speech (str): Path to speech eg: \"./Addresses/1984-Reagan.txt\"\n",
    "        l (int): Number of principal components\n",
    "\n",
    "    Returns:\n",
    "        tuple of str: (Most similar speech, least similar speech)\n",
    "    \"\"\"\n",
    "    #repeat prob 3 using your weighted document converter function, sklearns built in PCA decomposition\n",
    "    X, paths = weighted_document_converter() #use weighted_document_converter instead of document_converter here\n",
    "    X = X.toarray() #PCA fit_transform func cant take in sparse matrices\n",
    "    \n",
    "    #use built in PCA to find the PCA instead of doing the svd stuff:\n",
    "    pca = PCA(n_components=l, svd_solver = 'full')    #create the PCA transformer with hyperparameters\n",
    "    Xhat = pca.fit_transform(X)  #fit the transformer and transform the data\n",
    "    \n",
    "    #need the index for when use prob 2 function:\n",
    "    ind = paths.index(speech)    #want get the index of each speech\n",
    "    \n",
    "    #now use prob 2 func to find index of which documents are most, least similar\n",
    "    minInd, maxInd = similar(ind, Xhat)\n",
    "    \n",
    "    return paths[maxInd][12:-4], paths[minInd][12:-4]  #do it at [12:-4] so that dont have address string in front of it"
   ]
  },
  {
   "cell_type": "code",
   "execution_count": 11,
   "metadata": {},
   "outputs": [
    {
     "name": "stdout",
     "output_type": "stream",
     "text": [
      "('1985-Reagan', '1961-Kennedy')\n",
      "('1994-Clinton', '1951-Truman')\n"
     ]
    }
   ],
   "source": [
    "# Run this box after you have completed prob5()\n",
    "speech = './Addresses/1984-Reagan.txt'\n",
    "print(prob5(speech))\n",
    "\n",
    "speech = \"./Addresses/1993-Clinton.txt\"\n",
    "print(prob5(speech))"
   ]
  },
  {
   "cell_type": "markdown",
   "metadata": {},
   "source": [
    "# This problem seems more reasonable than problem 3 because the least similar speeches are really old and the most similar speeches are the same presidents booYUH take THAT!"
   ]
  },
  {
   "cell_type": "markdown",
   "metadata": {},
   "source": [
    "## Problem 6\n",
    "- Split the breast cancer dataset into training and testing sets using random_state=2\n",
    "- Fit KNeighborsClassifier and RandomForestClassifier to the training data\n",
    "- Predict labels for the testing set\n",
    "- Print a classification_report for each classifier\n",
    "- Write a few sentences explaining which classifier would be better to use in this situation and why"
   ]
  },
  {
   "cell_type": "code",
   "execution_count": 2,
   "metadata": {},
   "outputs": [
    {
     "name": "stdout",
     "output_type": "stream",
     "text": [
      "KNeighorsClassifier:\n",
      "              precision    recall  f1-score   support\n",
      "\n",
      "           0       0.85      0.91      0.88        56\n",
      "           1       0.94      0.90      0.92        87\n",
      "\n",
      "    accuracy                           0.90       143\n",
      "   macro avg       0.89      0.90      0.90       143\n",
      "weighted avg       0.90      0.90      0.90       143\n",
      "\n",
      "\n",
      "RandomForestClassifier:\n",
      "              precision    recall  f1-score   support\n",
      "\n",
      "           0       0.91      0.95      0.93        56\n",
      "           1       0.96      0.94      0.95        87\n",
      "\n",
      "    accuracy                           0.94       143\n",
      "   macro avg       0.94      0.94      0.94       143\n",
      "weighted avg       0.94      0.94      0.94       143\n",
      "\n"
     ]
    }
   ],
   "source": [
    "#get cancer dataset again:\n",
    "cancer = datasets.load_breast_cancer()\n",
    "X = cancer.data\n",
    "y = cancer.target\n",
    "\n",
    "#split data into training, testing sets w/ random_state = 2:\n",
    "X_train, X_test, y_train, y_test = train_test_split(X, y, random_state = 2)\n",
    "\n",
    "#do everything for KNeighborsClassifier:\n",
    "#fit KNeighborsClassifier to the training data:\n",
    "knn = KNeighborsClassifier(n_neighbors=2)\n",
    "knn.fit(X_train, y_train)\n",
    "\n",
    "#predict labels for the testing set:\n",
    "knn_predicted = knn.predict(X_test)\n",
    "\n",
    "#do everything for RandomForestClassifier:\n",
    "forest = RandomForestClassifier()\n",
    "forest.fit(X_train, y_train)  #fit to the training data\n",
    "forest_predicted = forest.predict(X_test)  #predict labels for the testing set\n",
    "\n",
    "#print classification_report for each classifier:\n",
    "print(\"KNeighorsClassifier:\")\n",
    "print(classification_report(y_test, knn_predicted))\n",
    "print(\"\")\n",
    "print(\"RandomForestClassifier:\")\n",
    "print(classification_report(y_test, forest_predicted))"
   ]
  },
  {
   "cell_type": "markdown",
   "metadata": {},
   "source": [
    "# A higher score means a better classifier so the RandomForestClassifier is better than the KNeighborsClassifier. The dataset here is for cancer, so it is not clustering so the random forest classifier will be better than the K neighbors one. The random forest would be better for data that is more clustered around a single point. HOWEVER, the k neighbors classifier would be better to use if the data is in different clusters\n",
    "\n",
    "# booYUH again!"
   ]
  },
  {
   "cell_type": "markdown",
   "metadata": {},
   "source": [
    "## Problem 7\n",
    "- Use the breast cancer dataset split from Problem 6\n",
    "- Run a GridSearch with a RandomForestClassifier, modifying at least three parameters.\n",
    "- Use scoring=\"f1\"\n",
    "- Print out best_params_ and best_score_\n",
    "- Print a confusion matrix for the test data"
   ]
  },
  {
   "cell_type": "code",
   "execution_count": 3,
   "metadata": {},
   "outputs": [
    {
     "name": "stdout",
     "output_type": "stream",
     "text": [
      "{'max_depth': 4, 'min_samples_leaf': 2, 'n_estimators': 6}\n",
      "0.970601391535971\n",
      "[[51  5]\n",
      " [ 5 82]]\n"
     ]
    }
   ],
   "source": [
    "#want use breast cancer dataset split from prob 6:\n",
    "X_train, X_test, y_train, y_test = train_test_split(X, y, random_state = 2)\n",
    "\n",
    "forest = RandomForestClassifier() #want run GridSearch w/ RandomForestClassifier\n",
    "\n",
    "#to see what parameters have, use the code: RandomForestClassifier().get_params().keys()\n",
    "#specify values for certain hyperparameters: want modify at least 3 parameters\n",
    "param_grid = {\"n_estimators\": [3,4,5,6,7],   #just choose random values for each parameter\n",
    "              \"max_depth\": [27,13,4,6,9],\n",
    "              \"min_samples_leaf\": [1,2,56,8,7]}\n",
    "\n",
    "forest_gs = GridSearchCV(forest, param_grid, scoring = \"f1\", n_jobs = -1) #told to use scoring=f1\n",
    "\n",
    "#run the actual search now:\n",
    "forest_gs.fit(X_train, y_train)\n",
    "\n",
    "#after fitting: you can access the data about the results: want print best_params_, best_score_\n",
    "print(forest_gs.best_params_, forest_gs.best_score_, sep = '\\n')\n",
    "\n",
    "#print confusion matrix for the test data:\n",
    "forest_predicted = forest_gs.predict(X_test) #need this for when make the confusion matrix\n",
    "CM = confusion_matrix(y_test, forest_predicted)\n",
    "print(CM)"
   ]
  },
  {
   "cell_type": "code",
   "execution_count": null,
   "metadata": {},
   "outputs": [],
   "source": []
  },
  {
   "cell_type": "markdown",
   "metadata": {},
   "source": [
    "## Problem 8\n",
    "- Create a pipeline with a StandardScaler, PCA, and a KNeighborsClassifier\n",
    "- Do a grid search, modifying at least 6 parameters\n",
    "- Print your best parameters and best score (f1)\n",
    "- Get a score of at least .96"
   ]
  },
  {
   "cell_type": "code",
   "execution_count": 3,
   "metadata": {},
   "outputs": [
    {
     "name": "stdout",
     "output_type": "stream",
     "text": [
      "{'knn__n_neighbors': 4, 'knn__weights': 'distance', 'pca__random_state': 1, 'pca__tol': 3, 'scaler__with_mean': 6, 'scaler__with_std': 6}\n",
      "0.9782136765623004\n"
     ]
    }
   ],
   "source": [
    "#want use same train-test split as before:\n",
    "X_train, X_test, y_train, y_test = train_test_split(X, y, random_state = 2)\n",
    "\n",
    "#create pipeline w/ StandardScaler, PCA, KNeighborsClassifier:\n",
    "pipe = Pipeline([(\"scaler\", StandardScaler()),\n",
    "                 (\"pca\", PCA()),\n",
    "                 (\"knn\", KNeighborsClassifier())])\n",
    "\n",
    "#want modify at least 6 parameters so specify values for the hyperparameters choose:\n",
    "pipe_param_grid = [{\"knn__n_neighbors\": [3,4,5,6,7],   #just choose random values for each parameter\n",
    "              \"knn__weights\": [\"uniform\", \"distance\"],\n",
    "              \"pca__random_state\": [1,2,56,8,7],\n",
    "              \"pca__tol\": [3,4,5,6,7],\n",
    "              \"scaler__with_mean\": [6,7,8,9,10],\n",
    "              \"scaler__with_std\": [6, 7, 8, 9, 10]}]\n",
    "\n",
    "#now do the gridsearch:\n",
    "pipe_gs = GridSearchCV(pipe, pipe_param_grid, scoring = \"f1\", n_jobs = -1)\n",
    "pipe_gs.fit(X_train, y_train)\n",
    "\n",
    "#print best parameters and best score:\n",
    "print(pipe_gs.best_params_, pipe_gs.best_score_, sep = '\\n')"
   ]
  },
  {
   "cell_type": "code",
   "execution_count": null,
   "metadata": {},
   "outputs": [],
   "source": []
  },
  {
   "cell_type": "code",
   "execution_count": null,
   "metadata": {},
   "outputs": [],
   "source": []
  }
 ],
 "metadata": {
  "kernelspec": {
   "display_name": "Python 3 (ipykernel)",
   "language": "python",
   "name": "python3"
  },
  "language_info": {
   "codemirror_mode": {
    "name": "ipython",
    "version": 3
   },
   "file_extension": ".py",
   "mimetype": "text/x-python",
   "name": "python",
   "nbconvert_exporter": "python",
   "pygments_lexer": "ipython3",
   "version": "3.8.10"
  }
 },
 "nbformat": 4,
 "nbformat_minor": 4
}
