{
 "cells": [
  {
   "cell_type": "markdown",
   "id": "d68bd080",
   "metadata": {},
   "source": [
    "## Linear Regression\n",
    "### Name: Jane Slagle\n",
    "### Class: Vol 3 Lab bebe\n",
    "### Section: who even knows, I think 2\n",
    "### Date: 11/1/22"
   ]
  },
  {
   "cell_type": "code",
   "execution_count": 2,
   "id": "03f34593",
   "metadata": {},
   "outputs": [],
   "source": [
    "import numpy as np\n",
    "import pandas as pd\n",
    "import scipy.linalg as la\n",
    "import time\n",
    "import statsmodels.api as sm\n",
    "from sklearn import linear_model as lm\n",
    "from itertools import combinations\n",
    "from matplotlib import pyplot as plt"
   ]
  },
  {
   "cell_type": "markdown",
   "id": "55a959b8",
   "metadata": {},
   "source": [
    "## Problem 1\n",
    "Write a function that takes as input $X$ and **y** as defined on page 1. Call this function **ols**. This function should return the least squares estimator for $\\beta$ as a numpy array."
   ]
  },
  {
   "cell_type": "code",
   "execution_count": 3,
   "id": "b9c9bd9e",
   "metadata": {},
   "outputs": [],
   "source": [
    "def ols(X, y):\n",
    "    \"\"\"\n",
    "    Solves for the least squares estimator.\n",
    "    Add a column of 1s to X.\n",
    "    Parameters:\n",
    "        X: n x d numpyarray\n",
    "        y: n x 1 numpyarray\n",
    "    Returns:\n",
    "        beta: d x 1 numpyarray\n",
    "    \"\"\"\n",
    "    #get columns of one to add onto X:\n",
    "    X = X.reshape((X.shape[0], -1))\n",
    "    X_ = np.hstack((np.ones(len(y)).reshape(X.shape[0], -1), X))\n",
    "    \n",
    "    B = np.linalg.inv(X_.T @ X_)@X_.T@y        #formula for least squares estimator for beta\n",
    "    \n",
    "    return B   #its already a numpy array"
   ]
  },
  {
   "cell_type": "code",
   "execution_count": null,
   "id": "06cae3d8",
   "metadata": {},
   "outputs": [],
   "source": []
  },
  {
   "cell_type": "markdown",
   "id": "de74d716",
   "metadata": {},
   "source": [
    "## Problem 2\n",
    "Find the least squares estimator for $\\beta$ using this random data. \n",
    "Produce a plot showing the random data and the line of best fit determined by the least squares estimator for $\\beta$. \n",
    "Your plot should include a title, axis labels, and a legend. "
   ]
  },
  {
   "cell_type": "code",
   "execution_count": 4,
   "id": "5f6f6271",
   "metadata": {},
   "outputs": [],
   "source": [
    "#use code given in lab manual to generate random data:\n",
    "n = 100 # Number of points to generate\n",
    "X = np.arange(100) # The input X for the function ols\n",
    "eps = np.random.uniform(-10,10, size=(100,)) # Noise to generate random y coordinates\n",
    "y = .3*X + 3 + eps # The input y for the function ols\n",
    "\n",
    "#find least squares estimator for beta using random data: call prob 1 on X, y got from code above\n",
    "B = ols(X, y)"
   ]
  },
  {
   "cell_type": "code",
   "execution_count": 5,
   "id": "d874e7f5",
   "metadata": {},
   "outputs": [
    {
     "data": {
      "image/png": "[encoded data removed]",
      "text/plain": [
       "<Figure size 432x288 with 1 Axes>"
      ]
     },
     "metadata": {
      "needs_background": "light"
     },
     "output_type": "display_data"
    }
   ],
   "source": [
    "#plot showing random data, line of best fit determined by least squares estimator for beta:\n",
    "plt.scatter(X, y, color = \"lightpink\", label = \"random data\")  #plot the random data\n",
    "\n",
    "#plot the line of best fit now: y = mx+b where y intercept b given by first thing in beta, slope given by second \n",
    "#thing in beta\n",
    "plt.plot(X, B[1]*X + B[0], color = \"crimson\", label = \"best fit line\")\n",
    "\n",
    "plt.title(\"Best fitting line\")\n",
    "plt.xlabel(\"x\")\n",
    "plt.ylabel(\"y\")\n",
    "plt.legend(loc = \"best\")\n",
    "\n",
    "plt.show()"
   ]
  },
  {
   "cell_type": "markdown",
   "id": "60182d75",
   "metadata": {},
   "source": [
    "## Problem 3\n",
    "Write a function that finds the least squares estimator for rank-deficient models using the SVD. \n",
    "The function should still take $X$ and **y** as inputs. Call the function **svd_ols** and return the least squares estimator for $\\beta$ as a numpy array."
   ]
  },
  {
   "cell_type": "code",
   "execution_count": 6,
   "id": "521a5178",
   "metadata": {},
   "outputs": [],
   "source": [
    "def svd_ols(X, y):\n",
    "    \"\"\"\n",
    "    Solves for the least squares estimator using the SVD.\n",
    "    Add a column of 1s to X.\n",
    "    Parameters:\n",
    "        X: n x d numpyarray\n",
    "        y: n x 1 numpyarray\n",
    "    Returns:\n",
    "        beta: d x 1 numpy array\n",
    "    \"\"\"\n",
    "    #add columns of ones to X, have reshape so it all works:\n",
    "    X = X.reshape((X.shape[0], -1))\n",
    "    X_ = np.hstack((np.ones(len(y)).reshape(X.shape[0], -1), X))\n",
    "    \n",
    "    U, E, VH = la.svd(X_, full_matrices = False) #get compact SVD of X now\n",
    "    \n",
    "    #get least squares estimator now:\n",
    "    B = VH.T@np.diag(1/E)@U.T@y\n",
    "    \n",
    "    return B    "
   ]
  },
  {
   "cell_type": "markdown",
   "id": "1ed14166",
   "metadata": {},
   "source": [
    "## Problem 4\n",
    "Use your function **svd_ols** to find the least squares estimator for a cubic polynomial. \n",
    "Create a plot that shows a scatter plot of the data and a curve using the least squares estimator. \n",
    "Your plot should include a title, axis labels, and a legend."
   ]
  },
  {
   "cell_type": "code",
   "execution_count": 7,
   "id": "64506569",
   "metadata": {},
   "outputs": [],
   "source": [
    "#use code given in lab manual to generate random data:\n",
    "x = np.linspace(-4, 2, 500)\n",
    "y = x**3 + 3*x**2 - x - 3.5\n",
    "eps = np.random.normal(0, 3, len(y)) # Create noise\n",
    "y += eps # Add noise to randomize data\n",
    "\n",
    "#use func svd_ols to find least squares estimator:\n",
    "X = np.vander(x, 4, increasing = True)  #gives column of x cubed, x squared, x to 1, constants: to get it for\n",
    "                                        #cubic polynomial like how they ask in problem\n",
    "B = svd_ols(X[:, 1:], y) #added in column of 1s: vander also has column of 1s so do slicing to get rid of \n",
    "                         #columns of 1s from vander bc SVD_ols adds column of 1s on"
   ]
  },
  {
   "cell_type": "code",
   "execution_count": 8,
   "id": "344c9e48",
   "metadata": {},
   "outputs": [
    {
     "data": {
      "image/png": "[encoded data removed]",
      "text/plain": [
       "<Figure size 432x288 with 1 Axes>"
      ]
     },
     "metadata": {
      "needs_background": "light"
     },
     "output_type": "display_data"
    }
   ],
   "source": [
    "#plot data now:\n",
    "plt.scatter(x, y, s = 0.5, color = \"mediumslateblue\", label = \"random data\")\n",
    "plt.plot(x, X@B, color = \"indigo\", label = \"best fit curve\")  #this is same thing as line of best fit\n",
    "plt.xlabel(\"x\")\n",
    "plt.ylabel(\"y\")\n",
    "plt.title(\"Best fitting curve for a cubic polynomial\")\n",
    "plt.legend(loc = \"best\")\n",
    "\n",
    "plt.show()"
   ]
  },
  {
   "cell_type": "markdown",
   "id": "c863089a",
   "metadata": {},
   "source": [
    "## Problem 5\n",
    "The file **realestate.csv** contains transaction data from 2012-2013. \n",
    "It has columns for transaction data, house age, distance to nearest MRT station, number of convenience stores, latitude, longitude, and house price of unit area.\n",
    "Each row in the array is a separate measurement.\n",
    "\n",
    "Find the combination of variables that builds the model with the best $R^2$ value when predicting **house price of unit area**. Use **statsmodels** to build each model and calculate $R^2$. Using the same combination of variables, time the methods **ols**, **svd_ols**, and **statsmodels** . Return a list with the first element being a tuple of times for each method and the second element being the best $R^2$ value from the first part of the problem."
   ]
  },
  {
   "cell_type": "code",
   "execution_count": 9,
   "id": "e6214ba3",
   "metadata": {},
   "outputs": [],
   "source": [
    "def problem5():\n",
    "    \"\"\"\n",
    "    Find the best R2 value using statsmodels.\n",
    "    Then time ols, svd_ols, and statsmodlels.\n",
    "    Returns:\n",
    "        list(): a tuple of times and the best R2 value\n",
    "    \"\"\"\n",
    "    transaction_data = pd.read_csv(\"realestate.csv\")  #load in the data\n",
    "    \n",
    "    #want use statsmodels to build each model, calculate R^2 like how they show in lab manual:\n",
    "    y = transaction_data[\"Y house price of unit area\"]   #extract dependent variable which is house price of unit area\n",
    "    col_names = [\"X1 transaction date\", \"X2 house age\", \"X3 distance to the nearest MRT station\", \n",
    "                   \"X4 number of convenience stores\", \"X5 latitude\", \"X6 longitude\"]\n",
    "    temp_X = transaction_data[col_names] #independent variables\n",
    "    \n",
    "    R_2 = 0  #list to store all of the R^2 values in\n",
    "    for i in range(1, len(temp_X) + 1):\n",
    "        for comb in combinations(col_names, i):  #make combos of the variables that build the model (the cols)\n",
    "            model = sm.OLS(y, sm.add_constant(temp_X[list(comb)])).fit()  #fit model w/ that specific combo\n",
    "            #get highest R^2 value:\n",
    "            if model.rsquared > R_2:\n",
    "                R_2 = model.rsquared\n",
    "                max_comb = comb  #get combo that gives us the best R^2 value\n",
    "    \n",
    "    #want X with the combo that gives the best R^2 value bc want to time the 3 things w/ this combo:\n",
    "    X = temp_X[list(max_comb)]  #dont need to add cols of 1s on bc our ols, svd_ols funcs already do that\n",
    "    \n",
    "    #time the ols:\n",
    "    start1 = time.time()\n",
    "    ols(np.array(X), y)\n",
    "    end1 = time.time()\n",
    "    ols_time = end1 - start1  #time for ols to run\n",
    "    \n",
    "    #time the svd_ols:\n",
    "    start2 = time.time()\n",
    "    svd_ols(np.array(X), y)\n",
    "    end2 = time.time()\n",
    "    svd_time = end2 - start2  #time for svd_ols to run\n",
    "    \n",
    "    #time the statsmodels method:\n",
    "    start3 = time.time()\n",
    "    X_ = sm.add_constant(X)  #need to add column of 1s for when use statsmodels method bc it doesnt have it yet\n",
    "    sm.OLS(y, X_).fit()\n",
    "    end3 = time.time()\n",
    "    sm_time = end3 - start3  #time for statsmodel ols method to run\n",
    "    \n",
    "    #want return list w/ 1st element being tuple of times for each method, 2nd being best R2 value found:\n",
    "    return [(ols_time, svd_time, sm_time), R_2]"
   ]
  },
  {
   "cell_type": "code",
   "execution_count": 10,
   "id": "5a9bb7a7",
   "metadata": {},
   "outputs": [
    {
     "data": {
      "text/plain": [
       "[(0.0003311634063720703, 0.0006225109100341797, 0.006103992462158203),\n",
       " 0.5823704472723135]"
      ]
     },
     "execution_count": 10,
     "metadata": {},
     "output_type": "execute_result"
    }
   ],
   "source": [
    "problem5()"
   ]
  },
  {
   "cell_type": "markdown",
   "id": "d3ff1a9b",
   "metadata": {},
   "source": [
    "## Problem 6\n",
    "Use the file **realestate.csv** and the Python Example on page 4 as a template for constructing **y** and $X$ and calculating model AIC and BIC. \n",
    "For the dependent variable, use **house price of unit area**. \n",
    "For the independent variables, use **distance to the nearest MRT station**, **number of convenience stores**, **latitude**, and **longitude**.\n",
    "\n",
    "Find the model that has the lowest AIC and the model that has the lowest BIC. Are they the same model? Print the features of the model with the lowest AIC as a list."
   ]
  },
  {
   "cell_type": "code",
   "execution_count": 11,
   "id": "00fd80df",
   "metadata": {},
   "outputs": [
    {
     "name": "stdout",
     "output_type": "stream",
     "text": [
      "AIC:\n",
      "3038.5362593218324 ['X3 distance to the nearest MRT station', 'X4 number of convenience stores', 'X5 latitude']\n",
      "BIC:\n",
      "3054.6397232171335 ['X3 distance to the nearest MRT station', 'X4 number of convenience stores', 'X5 latitude']\n",
      "These are the same model, booYUH!!!\n"
     ]
    }
   ],
   "source": [
    "transaction_data = pd.read_csv(\"realestate.csv\")  #load in the data\n",
    "\n",
    "y = transaction_data[\"Y house price of unit area\"]   #dep var which is house price of unit area\n",
    "indep_var = [\"X3 distance to the nearest MRT station\", \n",
    "                   \"X4 number of convenience stores\", \"X5 latitude\", \"X6 longitude\"]\n",
    "temp_X = transaction_data[indep_var] \n",
    "\n",
    "AIC = 1000000  #want lowest AIC, BIC so set them super high for when compare in for loop below:\n",
    "BIC = 1000000\n",
    "\n",
    "for i in range(1, len(temp_X) + 1):\n",
    "    for comb in combinations(indep_var, i):  #make combos of the variables that build the model (the cols)\n",
    "        model = sm.OLS(y, sm.add_constant(temp_X[list(comb)])).fit()  #fit model w/ that specific combo\n",
    "            \n",
    "        #get lowest AIC:\n",
    "        if model.aic < AIC:\n",
    "            AIC = model.aic\n",
    "            max_comb_AIC = comb   #get combo that gives us the lowest AIC\n",
    "        \n",
    "        #get lowest BIC:\n",
    "        if model.bic < BIC:\n",
    "            BIC = model.bic\n",
    "            max_comb_BIC = comb  #get combo that gives us the lowest BIC\n",
    "\n",
    "print(\"AIC:\")\n",
    "print(AIC, list(max_comb_AIC))\n",
    "print(\"BIC:\")\n",
    "print(BIC, list(max_comb_BIC))\n",
    "print(\"These are the same model, booYUH!!!\")"
   ]
  },
  {
   "cell_type": "markdown",
   "id": "fa519708",
   "metadata": {},
   "source": [
    "## Problem 7\n",
    "Use Ridge and Lasso Regression to model **house price of unit area** from the file **realestate.csv**.\n",
    "Before fitting each model, run a GridSearch on $\\alpha$ to find the optimal value.\n",
    "Then use the optimal $\\alpha$ to fit the model.\n",
    "Once you have fit the model, you can use the **score** method to get $R^2$. \n",
    "Print $R^2$ for each model as a tuple. \n",
    "How do these models compare to the models in problem 5?"
   ]
  },
  {
   "cell_type": "code",
   "execution_count": 14,
   "id": "41fb5f95",
   "metadata": {},
   "outputs": [
    {
     "name": "stdout",
     "output_type": "stream",
     "text": [
      "(0.5823546180967247, 0.5822617746792913)\n",
      "The R^2 values from these models are essentially the same exact R^2 values from problem 5, booYUH not just booYAH!!!\n"
     ]
    }
   ],
   "source": [
    "transaction_data = pd.read_csv(\"realestate.csv\")  #load in the data\n",
    "y = transaction_data[\"Y house price of unit area\"]   #dep variable is house price of unit area\n",
    "col_names = [\"X1 transaction date\", \"X2 house age\", \"X3 distance to the nearest MRT station\", \n",
    "                   \"X4 number of convenience stores\", \"X5 latitude\", \"X6 longitude\"]\n",
    "temp_X = transaction_data[col_names] #indep vars\n",
    "\n",
    "#find optimal alpha, R^2 for Ridge regression:\n",
    "ridge_reg = lm.RidgeCV(alphas=np.logspace(-6, 6, 13)) #range for gridsearch\n",
    "ridge_model = ridge_reg.fit(temp_X, y)   #fit the model\n",
    "ridge_opt_alph = ridge_reg.alpha_        #best parameter value for alpha\n",
    "ridge_R2 = ridge_reg.score(temp_X, y)  #get R^2 for ridge regression\n",
    "\n",
    "#find optimal alpha, R^2 for Lasso regression:\n",
    "lasso_reg = lm.LassoCV(alphas=np.logspace(-6, 6, 13)) #range for gridsearch\n",
    "lasso_model = lasso_reg.fit(temp_X, y)   #fit the model\n",
    "lasso_opt_alph = lasso_reg.alpha_        #best parameter value for alpha\n",
    "lasso_R2 = lasso_reg.score(temp_X, y)  #get R^2 for ridge regression\n",
    "\n",
    "#print R^2 for each model as tuple:\n",
    "print((ridge_R2, lasso_R2))\n",
    "print(\"The R^2 values from these models are essentially the same exact R^2 values from problem 5, booYUH not just booYAH!!!\")"
   ]
  },
  {
   "cell_type": "code",
   "execution_count": null,
   "id": "a0b68b0a",
   "metadata": {},
   "outputs": [],
   "source": []
  },
  {
   "cell_type": "code",
   "execution_count": null,
   "id": "4914998e",
   "metadata": {},
   "outputs": [],
   "source": []
  }
 ],
 "metadata": {
  "kernelspec": {
   "display_name": "Python 3 (ipykernel)",
   "language": "python",
   "name": "python3"
  },
  "language_info": {
   "codemirror_mode": {
    "name": "ipython",
    "version": 3
   },
   "file_extension": ".py",
   "mimetype": "text/x-python",
   "name": "python",
   "nbconvert_exporter": "python",
   "pygments_lexer": "ipython3",
   "version": "3.8.10"
  }
 },
 "nbformat": 4,
 "nbformat_minor": 5
}
