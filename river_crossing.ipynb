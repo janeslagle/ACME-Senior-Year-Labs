{
 "cells": [
  {
   "cell_type": "markdown",
   "metadata": {},
   "source": [
    "<h1 align=\"center\">Volume 4: River Crossing.</h1>\n",
    "\n",
    "    Jane Emeline Slagle\n",
    "    Section 1 and done\n",
    "    2/23/23"
   ]
  },
  {
   "cell_type": "code",
   "execution_count": 37,
   "metadata": {},
   "outputs": [],
   "source": [
    "import numpy as np\n",
    "import scipy.integrate as si\n",
    "from autograd import grad\n",
    "from scipy import optimize\n",
    "from matplotlib import pyplot as plt\n",
    "from scipy.interpolate import barycentric_interpolate"
   ]
  },
  {
   "cell_type": "markdown",
   "metadata": {},
   "source": [
    "# Problem 1\n",
    "Assume that the current is given by $c(x) = −\n",
    "\\frac{7}{10} (x^2 − 1)$. (This function assumes, for example, that the current is faster near the center of the river.) Write a Python\n",
    "function that accepts as arguments a function $y$, its derivative $y'$, and an $x$-value, and returns $L(x, y(x), y'(x))$ (where $T[y]=\\int^1_{-1} L(x,y(x),y'(x))dx$ Use that function to defune a second\n",
    "function that numerically computes $T[y]$ for a given path $y(x)$."
   ]
  },
  {
   "cell_type": "code",
   "execution_count": 38,
   "metadata": {},
   "outputs": [],
   "source": [
    "c = lambda x: (-7/10)*((x**2)-1)\n",
    "alph = lambda x: (1-c(x)**2)**(-1/2)\n",
    "\n",
    "#1st func: want return L(x, y(x), y'(x))\n",
    "def L(x, y, dy):\n",
    "    #use equation 19.3 to get L \n",
    "    return alph(x)*np.sqrt(1+(alph(x)**2)*(dy(x)**2)) - (alph(x)**2)*(c(x))*(dy(x))\n",
    "\n",
    "#2nd func: uses 1st L func to find T[y] (integral of L)\n",
    "def T(y):\n",
    "    #want get integral from -1 to 1\n",
    "    return si.quad(L, -1, 1, args = (y, grad(y)))"
   ]
  },
  {
   "cell_type": "markdown",
   "metadata": {},
   "source": [
    "# Problem 2\n",
    "\n",
    "Let y(x) be the straight-line path between A = (−1, 0) and B = (1, 5). Numerically calculate T[y] to get an upper bound on the minimum time required to cross from A to\n",
    "B. Using (18.2), find a lower bound on the minimum time required to cross."
   ]
  },
  {
   "cell_type": "code",
   "execution_count": 39,
   "metadata": {},
   "outputs": [
    {
     "name": "stdout",
     "output_type": "stream",
     "text": [
      "3.877082049138412 2\n"
     ]
    }
   ],
   "source": [
    "#get line equation connecting pts. A, B\n",
    "y = lambda x: (5/2)*(x+1)\n",
    "\n",
    "#get the upper and lower bounds:\n",
    "upper = T(y)[0]\n",
    "\n",
    "#lower bound given by graph of 1/sec from -1 to 1\n",
    "#so it's integral -1 to 1 w/ 1 dx which is 2 (graphed on desmos and saw this!)\n",
    "lower = 2\n",
    "\n",
    "print(upper, lower)"
   ]
  },
  {
   "cell_type": "markdown",
   "metadata": {},
   "source": [
    "# Problem 3\n",
    "\n",
    "Numerically solve the Euler-Lagrange equation (18.4), using c(x) = −\n",
    "7\n",
    "10 (x\n",
    "2 − 1)\n",
    "and α = (1 − c\n",
    "2\n",
    ")\n",
    "−1/2\n",
    ", and y(−1) = 0, y(1) = 5.\n",
    "Hint: Since this boundary value problem is defined over the doimain [−1, 1], it is easy to\n",
    "solve using the pseudospectral method. Begin by replacing each d\n",
    "dx with the pseudospectral\n",
    "differentiation matrix D. Then impose the boundary conditions and solve."
   ]
  },
  {
   "cell_type": "code",
   "execution_count": 61,
   "metadata": {},
   "outputs": [
    {
     "data": {
      "image/png": "[encoded data removed]",
      "text/plain": [
       "<Figure size 432x288 with 1 Axes>"
      ]
     },
     "metadata": {
      "needs_background": "light"
     },
     "output_type": "display_data"
    }
   ],
   "source": [
    "#need previous eqs used in past problems for c, alpha and y\n",
    "c = lambda x: (-7/10)*((x**2)-1)\n",
    "alph = lambda x: (1-c(x)**2)**(-1/2)\n",
    "y = lambda x: (5/2)*(x+1)\n",
    "\n",
    "#get this function from spectral 1 lab:\n",
    "#want use this bc use D that is returned in it to get the derivative need in equation 19.4\n",
    "def cheb(N):\n",
    "    x = np.cos((np.pi/N)*np.linspace(0,N,N+1))\n",
    "    x.shape = (N+1,1)\n",
    "    lin = np.linspace(0,N,N+1)\n",
    "    lin.shape = (N+1,1)\n",
    "    \n",
    "    c = np.ones((N+1,1))\n",
    "    c[0], c[-1] = 2., 2.\n",
    "    c = c*(-1.)**lin\n",
    "    X = x*np.ones(N+1) # broadcast along 2nd dimension (columns)\n",
    "    \n",
    "    dX = X - X.T\n",
    "    \n",
    "    D = (c*(1./c).T)/(dX + np.eye(N+1))\n",
    "    D = D - np.diag(np.sum(D.T,axis=0))\n",
    "    x.shape = (N+1,)\n",
    "    \n",
    "    # Here we return the differentiation matrix and the Chebyshev points,\n",
    "    # numbered from x_0 = 1 to x_N = -1\n",
    "    return D, x\n",
    "\n",
    "#get equation 19.4 in this func: use D from cheb func to take the deriv\n",
    "def F(U):\n",
    "    f = D@((alph(x)**3)*(D@U)*\n",
    "          ((1+(alph(x)**2)*((D@U)**2))**(-1/2))\n",
    "          -((alph(x)**2)*(c(x))))\n",
    "    \n",
    "    #these have to do w/ the given boundary condts:\n",
    "    f[0] = U[0] - 5\n",
    "    f[-1] = U[-1]\n",
    "    \n",
    "    return f\n",
    "\n",
    "#want numerically solve this so need to get the solution from barycentric values like how did in spectral 1 lab\n",
    "D, x = cheb(50)\n",
    "x_vals = np.linspace(-1, 1, 100)\n",
    "guess = y(x)\n",
    "solution = optimize.root(F, guess).x\n",
    "barycentric = barycentric_interpolate(x, solution, x_vals)\n",
    "\n",
    "#Quinlan put on slack to plot it so plot that sucker!\n",
    "plt.plot(x_vals, barycentric, label = \"barycentric\", color = \"orangered\")\n",
    "plt.plot(x, guess, label = \"guess\", color = \"darkmagenta\")\n",
    "plt.title(\"Barycentric Solution vs. Guess Solution\", color = \"deeppink\")\n",
    "plt.legend(loc = \"best\")\n",
    "plt.xlabel(\"x\", color = \"deeppink\")\n",
    "plt.ylabel(\"y\", color = \"deeppink\")\n",
    "plt.show()"
   ]
  },
  {
   "cell_type": "markdown",
   "metadata": {},
   "source": [
    "# Problem 4\n",
    "\n",
    "Plot the angle at which the boat should be pointed at each $x$-coordinate. (Hint: use Equation 1.1; see Figure 1.3. Note that the angle the boat should be steered is NOT described by the tangent vector to the trjaectory)"
   ]
  },
  {
   "cell_type": "code",
   "execution_count": 62,
   "metadata": {},
   "outputs": [
    {
     "data": {
      "image/png": "[encoded data removed]",
      "text/plain": [
       "<Figure size 432x288 with 1 Axes>"
      ]
     },
     "metadata": {
      "needs_background": "light"
     },
     "output_type": "display_data"
    }
   ],
   "source": [
    "#get the same 3 equations as before:\n",
    "c = lambda x: (-7/10)*((x**2)-1)\n",
    "alph = lambda x: (1-c(x)**2)**(-1/2)\n",
    "y = lambda x: (5/2)*(x+1)\n",
    "\n",
    "#get cheb(N) func from spectral1 lab again:\n",
    "def cheb(N):\n",
    "    x = np.cos((np.pi/N)*np.linspace(0,N,N+1))\n",
    "    x.shape = (N+1,1)\n",
    "    lin = np.linspace(0,N,N+1)\n",
    "    lin.shape = (N+1,1)\n",
    "    \n",
    "    c = np.ones((N+1,1))\n",
    "    c[0], c[-1] = 2., 2.\n",
    "    c = c*(-1.)**lin\n",
    "    X = x*np.ones(N+1) # broadcast along 2nd dimension (columns)\n",
    "    \n",
    "    dX = X - X.T\n",
    "    \n",
    "    D = (c*(1./c).T)/(dX + np.eye(N+1))\n",
    "    D = D - np.diag(np.sum(D.T,axis=0))\n",
    "    x.shape = (N+1,)\n",
    "    \n",
    "    # Here we return the differentiation matrix and the Chebyshev points,\n",
    "    # numbered from x_0 = 1 to x_N = -1\n",
    "    return D, x\n",
    "\n",
    "#do equation 19.1 (take existing func from spectral 1 and modify it to give us what we want)\n",
    "def F(U):\n",
    "    #modify f via eq. 19.1:\n",
    "    f = D @ solution - np.tan(U) - c(x)/np.cos(U)\n",
    "    \n",
    "    return f\n",
    "\n",
    "#get solution via barycentric stuff again just like how did in prob 3:\n",
    "x_vals = np.linspace(-1, 1, 100)\n",
    "guess = np.zeros(len(x))\n",
    "solution = optimize.root(F, guess).x\n",
    "barycentric = barycentric_interpolate(x, solution, x_vals)\n",
    "\n",
    "#Quinlan put on slack to plot it so plot that sucker!\n",
    "plt.plot(x_vals, barycentric, label = \"barycentric\", color = \"orangered\")\n",
    "plt.title(\"Angle boat should be pointed at each x coordinate\", color = \"deeppink\")\n",
    "plt.legend(loc = \"best\")\n",
    "plt.xlabel(\"x\", color = \"deeppink\")\n",
    "plt.ylabel(\"theta\", color = \"deeppink\")\n",
    "plt.ylim(0, np.pi/2)\n",
    "plt.show()"
   ]
  },
  {
   "cell_type": "code",
   "execution_count": null,
   "metadata": {},
   "outputs": [],
   "source": []
  }
 ],
 "metadata": {
  "kernelspec": {
   "display_name": "Python 3 (ipykernel)",
   "language": "python",
   "name": "python3"
  },
  "language_info": {
   "codemirror_mode": {
    "name": "ipython",
    "version": 3
   },
   "file_extension": ".py",
   "mimetype": "text/x-python",
   "name": "python",
   "nbconvert_exporter": "python",
   "pygments_lexer": "ipython3",
   "version": "3.8.10"
  }
 },
 "nbformat": 4,
 "nbformat_minor": 4
}
